{
 "cells": [
  {
   "cell_type": "code",
   "execution_count": 1,
   "id": "5c08ae3c",
   "metadata": {
    "pycharm": {
     "name": "#%%\n"
    }
   },
   "outputs": [],
   "source": [
    "#!ls\n",
    "#cd passport-index-dataset-master/"
   ]
  },
  {
   "cell_type": "code",
   "execution_count": 4,
   "id": "3e8d114f",
   "metadata": {
    "pycharm": {
     "name": "#%%\n"
    }
   },
   "outputs": [
    {
     "ename": "ModuleNotFoundError",
     "evalue": "No module named 'geopandas'",
     "output_type": "error",
     "traceback": [
      "\u001b[0;31m---------------------------------------------------------------------------\u001b[0m",
      "\u001b[0;31mModuleNotFoundError\u001b[0m                       Traceback (most recent call last)",
      "Input \u001b[0;32mIn [4]\u001b[0m, in \u001b[0;36m<cell line: 4>\u001b[0;34m()\u001b[0m\n\u001b[1;32m      2\u001b[0m \u001b[38;5;28;01mimport\u001b[39;00m \u001b[38;5;21;01mjson\u001b[39;00m\n\u001b[1;32m      3\u001b[0m \u001b[38;5;28;01mimport\u001b[39;00m \u001b[38;5;21;01mpandas\u001b[39;00m \u001b[38;5;28;01mas\u001b[39;00m \u001b[38;5;21;01mpd\u001b[39;00m\n\u001b[0;32m----> 4\u001b[0m \u001b[38;5;28;01mimport\u001b[39;00m \u001b[38;5;21;01mgeopandas\u001b[39;00m\n\u001b[1;32m      5\u001b[0m \u001b[38;5;28;01mimport\u001b[39;00m \u001b[38;5;21;01mgeodatasets\u001b[39;00m\n\u001b[1;32m      7\u001b[0m \u001b[38;5;66;03m# list of continents\u001b[39;00m\n",
      "\u001b[0;31mModuleNotFoundError\u001b[0m: No module named 'geopandas'"
     ]
    }
   ],
   "source": [
    "import csv\n",
    "import json\n",
    "import pandas as pd\n",
    "import geopandas\n",
    "import geodatasets\n",
    "\n",
    "# list of continents\n",
    "continents_habitable_list = ['AS', 'AF', 'EU', 'NA', 'SA', 'OC']\n",
    "\n",
    "country_list = []\n",
    "\n",
    "requirement_list = []\n",
    "requirement_list_simple = []\n",
    "\n",
    "number_of_countries = len(country_list)\n",
    "\n",
    "continents_habitable_list_words = ['Asia', 'Africa', 'Europe', 'North America', 'South America', 'Australia-Oceania']\n",
    "AF = {}\n",
    "\n",
    "# continent_dict | format: 'country': 'continent'\n",
    "with open('continent.json') as continent_list:\n",
    "    continent_dict = json.load(continent_list)\n",
    "\n",
    "# passport_index_dict | format: 'country': 'continent'\n",
    "with open('./passport-index-dataset-master/passport-index-tidy-iso2.csv') as passport_index_raw:\n",
    "    passport_index_dict = csv.DictReader(passport_index_raw)\n",
    "    \n",
    "    for row in passport_index_dict: # 'Passport': 'AF', 'Destination': 'AL', 'Requirement': 'e-visa'\n",
    "        # create list of countries based on passports in dataset\n",
    "        if row['Passport'] not in country_list:\n",
    "            country_list.append(row['Passport'])\n",
    "        # create list of requirement types (including # of days)\n",
    "        if row['Requirement'] not in requirement_list:\n",
    "            requirement_list.append(row['Requirement'])\n",
    "        # create simple list of requirement types (NO # of days)\n",
    "        if row['Requirement'] not in requirement_list_simple and row['Requirement'].isnumeric() == False:\n",
    "            requirement_list_simple.append(row['Requirement'])\n",
    "        \n",
    "        if row['Passport'] == 'AF':\n",
    "            AF[row['Destination']] = row['Requirement']\n",
    "    \n",
    "    \n",
    "print(len(continent_dict), continent_dict, '\\n')\n",
    "print(len(country_list), country_list, '\\n')\n",
    "print(requirement_list, '\\n')\n",
    "print(requirement_list_simple, '\\n')\n",
    "print(AF)"
   ]
  },
  {
   "cell_type": "code",
   "execution_count": 5,
   "id": "fcc11b15",
   "metadata": {
    "pycharm": {
     "name": "#%%\n"
    },
    "scrolled": true
   },
   "outputs": [
    {
     "ename": "NameError",
     "evalue": "name 'country_list' is not defined",
     "output_type": "error",
     "traceback": [
      "\u001b[0;31m---------------------------------------------------------------------------\u001b[0m",
      "\u001b[0;31mNameError\u001b[0m                                 Traceback (most recent call last)",
      "Input \u001b[0;32mIn [5]\u001b[0m, in \u001b[0;36m<cell line: 17>\u001b[0;34m()\u001b[0m\n\u001b[1;32m      8\u001b[0m country_continent \u001b[38;5;241m=\u001b[39m {}\n\u001b[1;32m     10\u001b[0m \u001b[38;5;66;03m#print(len(country_list))\u001b[39;00m\n\u001b[1;32m     11\u001b[0m \u001b[38;5;66;03m#print(continent_dict)\u001b[39;00m\n\u001b[1;32m     12\u001b[0m \n\u001b[1;32m     13\u001b[0m \n\u001b[1;32m     14\u001b[0m \u001b[38;5;66;03m#for country, continent in continent_dict.items():\u001b[39;00m\n\u001b[1;32m     15\u001b[0m     \u001b[38;5;66;03m#print(country, continent)\u001b[39;00m\n\u001b[0;32m---> 17\u001b[0m \u001b[38;5;28;01mfor\u001b[39;00m country \u001b[38;5;129;01min\u001b[39;00m \u001b[43mcountry_list\u001b[49m:\n\u001b[1;32m     18\u001b[0m     \u001b[38;5;28;01mif\u001b[39;00m country \u001b[38;5;129;01min\u001b[39;00m continent_dict:\n\u001b[1;32m     19\u001b[0m         country_continent[country] \u001b[38;5;241m=\u001b[39m continent_dict[country]\n",
      "\u001b[0;31mNameError\u001b[0m: name 'country_list' is not defined"
     ]
    }
   ],
   "source": [
    "asia = []\n",
    "africa = []\n",
    "europe = []\n",
    "north_america = []\n",
    "south_america = []\n",
    "oceania = []\n",
    "\n",
    "country_continent = {}\n",
    "\n",
    "#print(len(country_list))\n",
    "#print(continent_dict)\n",
    "\n",
    "\n",
    "#for country, continent in continent_dict.items():\n",
    "    #print(country, continent)\n",
    "    \n",
    "for country in country_list:\n",
    "    if country in continent_dict:\n",
    "        country_continent[country] = continent_dict[country]\n",
    "        #print(continent_dict[country])\n",
    "        \n",
    "print(len(country_continent), country_continent)\n",
    "\n",
    "#print(continents_habitable_list)\n",
    "\n",
    "for country, continent in country_continent.items():\n",
    "    #print(country)\n",
    "    #print(continent)\n",
    "    if continent == 'AS':\n",
    "        asia.append(country)\n",
    "    elif continent == 'AF':\n",
    "        africa.append(country)\n",
    "    elif continent == 'EU':\n",
    "        europe.append(country)\n",
    "    elif continent == 'NA':\n",
    "        north_america.append(country)\n",
    "    elif continent == 'SA':\n",
    "        south_america.append(country)\n",
    "    elif continent == 'OC':\n",
    "        oceania.append(country)\n",
    "        \n",
    "print('asia:', asia)\n",
    "print('africa:', africa)\n",
    "print('europe:', europe)\n",
    "print('north_america:', north_america)\n",
    "print('south_america:', south_america)\n",
    "print('oceania:', oceania)\n",
    "\n",
    "#print(len(asia)+len(africa)+len(europe)+len(north_america)+len(south_america)+len(oceania))"
   ]
  },
  {
   "cell_type": "code",
   "execution_count": 6,
   "id": "28a84f96",
   "metadata": {
    "pycharm": {
     "name": "#%%\n"
    }
   },
   "outputs": [
    {
     "name": "stdout",
     "output_type": "stream",
     "text": [
      "90\n"
     ]
    },
    {
     "ename": "KeyError",
     "evalue": "'TT'",
     "output_type": "error",
     "traceback": [
      "\u001b[0;31m---------------------------------------------------------------------------\u001b[0m",
      "\u001b[0;31mKeyError\u001b[0m                                  Traceback (most recent call last)",
      "Input \u001b[0;32mIn [6]\u001b[0m, in \u001b[0;36m<cell line: 19>\u001b[0;34m()\u001b[0m\n\u001b[1;32m     16\u001b[0m     \u001b[38;5;28;01mreturn\u001b[39;00m country_continent[passport]\n\u001b[1;32m     18\u001b[0m \u001b[38;5;28mprint\u001b[39m(get_requirements(\u001b[38;5;124m'\u001b[39m\u001b[38;5;124mTT\u001b[39m\u001b[38;5;124m'\u001b[39m, \u001b[38;5;124m'\u001b[39m\u001b[38;5;124mGM\u001b[39m\u001b[38;5;124m'\u001b[39m))\n\u001b[0;32m---> 19\u001b[0m \u001b[38;5;28mprint\u001b[39m(\u001b[43mget_continent\u001b[49m\u001b[43m(\u001b[49m\u001b[38;5;124;43m'\u001b[39;49m\u001b[38;5;124;43mTT\u001b[39;49m\u001b[38;5;124;43m'\u001b[39;49m\u001b[43m)\u001b[49m)\n\u001b[1;32m     21\u001b[0m \u001b[38;5;28mprint\u001b[39m(requirement_list)\n\u001b[1;32m     22\u001b[0m \u001b[38;5;28mprint\u001b[39m(requirement_list_simple)\n",
      "Input \u001b[0;32mIn [6]\u001b[0m, in \u001b[0;36mget_continent\u001b[0;34m(passport)\u001b[0m\n\u001b[1;32m     15\u001b[0m \u001b[38;5;28;01mdef\u001b[39;00m \u001b[38;5;21mget_continent\u001b[39m(passport):\n\u001b[0;32m---> 16\u001b[0m     \u001b[38;5;28;01mreturn\u001b[39;00m \u001b[43mcountry_continent\u001b[49m\u001b[43m[\u001b[49m\u001b[43mpassport\u001b[49m\u001b[43m]\u001b[49m\n",
      "\u001b[0;31mKeyError\u001b[0m: 'TT'"
     ]
    }
   ],
   "source": [
    "# function\n",
    "# input: passport, destination\n",
    "# output: visa requirements\n",
    "def get_requirements(passport, destination):\n",
    "    requirement = ''\n",
    "    \n",
    "    with open('./passport-index-dataset-master/passport-index-tidy-iso2.csv') as passport_index_raw:\n",
    "        passport_index_dict = csv.DictReader(passport_index_raw)\n",
    "        for row in passport_index_dict: # 'Passport': 'AF', 'Destination': 'AL', 'Requirement': 'e-visa'\n",
    "            if row['Passport'] == passport and row['Destination'] == destination:\n",
    "                requirement = row['Requirement']\n",
    "\n",
    "    return requirement\n",
    "\n",
    "def get_continent(passport):\n",
    "    return country_continent[passport]\n",
    "        \n",
    "print(get_requirements('TT', 'GM'))\n",
    "print(get_continent('TT'))\n",
    "\n",
    "print(requirement_list)\n",
    "print(requirement_list_simple)"
   ]
  },
  {
   "cell_type": "code",
   "execution_count": 7,
   "id": "45a6ee40",
   "metadata": {
    "pycharm": {
     "name": "#%%\n"
    }
   },
   "outputs": [
    {
     "data": {
      "text/html": [
       "<div>\n",
       "<style scoped>\n",
       "    .dataframe tbody tr th:only-of-type {\n",
       "        vertical-align: middle;\n",
       "    }\n",
       "\n",
       "    .dataframe tbody tr th {\n",
       "        vertical-align: top;\n",
       "    }\n",
       "\n",
       "    .dataframe thead th {\n",
       "        text-align: right;\n",
       "    }\n",
       "</style>\n",
       "<table border=\"1\" class=\"dataframe\">\n",
       "  <thead>\n",
       "    <tr style=\"text-align: right;\">\n",
       "      <th></th>\n",
       "      <th>Passport</th>\n",
       "      <th>Destination</th>\n",
       "      <th>Requirement</th>\n",
       "    </tr>\n",
       "  </thead>\n",
       "  <tbody>\n",
       "    <tr>\n",
       "      <th>0</th>\n",
       "      <td>AF</td>\n",
       "      <td>AL</td>\n",
       "      <td>e-visa</td>\n",
       "    </tr>\n",
       "    <tr>\n",
       "      <th>1</th>\n",
       "      <td>AF</td>\n",
       "      <td>DZ</td>\n",
       "      <td>visa required</td>\n",
       "    </tr>\n",
       "    <tr>\n",
       "      <th>2</th>\n",
       "      <td>AF</td>\n",
       "      <td>AD</td>\n",
       "      <td>visa required</td>\n",
       "    </tr>\n",
       "    <tr>\n",
       "      <th>3</th>\n",
       "      <td>AF</td>\n",
       "      <td>AO</td>\n",
       "      <td>visa on arrival</td>\n",
       "    </tr>\n",
       "    <tr>\n",
       "      <th>4</th>\n",
       "      <td>AF</td>\n",
       "      <td>AG</td>\n",
       "      <td>e-visa</td>\n",
       "    </tr>\n",
       "    <tr>\n",
       "      <th>...</th>\n",
       "      <td>...</td>\n",
       "      <td>...</td>\n",
       "      <td>...</td>\n",
       "    </tr>\n",
       "    <tr>\n",
       "      <th>39596</th>\n",
       "      <td>ZW</td>\n",
       "      <td>VN</td>\n",
       "      <td>visa required</td>\n",
       "    </tr>\n",
       "    <tr>\n",
       "      <th>39597</th>\n",
       "      <td>ZW</td>\n",
       "      <td>YE</td>\n",
       "      <td>visa required</td>\n",
       "    </tr>\n",
       "    <tr>\n",
       "      <th>39598</th>\n",
       "      <td>ZW</td>\n",
       "      <td>ZM</td>\n",
       "      <td>90</td>\n",
       "    </tr>\n",
       "    <tr>\n",
       "      <th>39599</th>\n",
       "      <td>ZW</td>\n",
       "      <td>ZW</td>\n",
       "      <td>-1</td>\n",
       "    </tr>\n",
       "    <tr>\n",
       "      <th>39600</th>\n",
       "      <td>ZW</td>\n",
       "      <td>AF</td>\n",
       "      <td>visa required</td>\n",
       "    </tr>\n",
       "  </tbody>\n",
       "</table>\n",
       "<p>39601 rows × 3 columns</p>\n",
       "</div>"
      ],
      "text/plain": [
       "      Passport Destination      Requirement\n",
       "0           AF          AL           e-visa\n",
       "1           AF          DZ    visa required\n",
       "2           AF          AD    visa required\n",
       "3           AF          AO  visa on arrival\n",
       "4           AF          AG           e-visa\n",
       "...        ...         ...              ...\n",
       "39596       ZW          VN    visa required\n",
       "39597       ZW          YE    visa required\n",
       "39598       ZW          ZM               90\n",
       "39599       ZW          ZW               -1\n",
       "39600       ZW          AF    visa required\n",
       "\n",
       "[39601 rows x 3 columns]"
      ]
     },
     "execution_count": 7,
     "metadata": {},
     "output_type": "execute_result"
    }
   ],
   "source": [
    "test = pd.read_csv('./passport-index-dataset-master/passport-index-tidy-iso2.csv')\n",
    "test"
   ]
  },
  {
   "cell_type": "code",
   "execution_count": 8,
   "id": "5f88403b",
   "metadata": {
    "pycharm": {
     "name": "#%%\n"
    }
   },
   "outputs": [
    {
     "name": "stdout",
     "output_type": "stream",
     "text": [
      "0\n"
     ]
    }
   ],
   "source": [
    "# avg for each cat of entry type\n",
    "\n",
    "average_asia_visa_required_to_enter = []\n",
    "\n",
    "with open('./passport-index-dataset-master/passport-index-tidy-iso2.csv') as passport_index_raw:\n",
    "    passport_index_dict = csv.DictReader(passport_index_raw)\n",
    "    for row in passport_index_dict:\n",
    "        if row['Destination'] in asia and row['Passport'] not in asia:\n",
    "            #print('true')\n",
    "            average_asia_visa_required_to_enter.append(row['Destination'])\n",
    "            \n",
    "    print(len(average_asia_visa_required_to_enter))\n",
    "\n",
    "def requirements_avg(country):\n",
    "    #do something with country\n",
    "    requirements_types = requirement_list_simple\n",
    "    \n",
    "    pass\n",
    "\n",
    "# for each country in [continent]\n",
    "#   check requirements for all other countries\n",
    "#   add counter for each visa restriction\n",
    "#"
   ]
  },
  {
   "cell_type": "code",
   "execution_count": 10,
   "id": "60b278fc",
   "metadata": {},
   "outputs": [
    {
     "ename": "ModuleNotFoundError",
     "evalue": "No module named 'geopandas'",
     "output_type": "error",
     "traceback": [
      "\u001b[0;31m---------------------------------------------------------------------------\u001b[0m",
      "\u001b[0;31mModuleNotFoundError\u001b[0m                       Traceback (most recent call last)",
      "Input \u001b[0;32mIn [10]\u001b[0m, in \u001b[0;36m<cell line: 1>\u001b[0;34m()\u001b[0m\n\u001b[0;32m----> 1\u001b[0m \u001b[38;5;28;01mimport\u001b[39;00m \u001b[38;5;21;01mgeopandas\u001b[39;00m\n\u001b[1;32m      2\u001b[0m \u001b[38;5;28;01mimport\u001b[39;00m \u001b[38;5;21;01mgeodatasets\u001b[39;00m\n\u001b[1;32m      3\u001b[0m colombia \u001b[38;5;241m=\u001b[39m geopandas\u001b[38;5;241m.\u001b[39mread_file(geodatasets\u001b[38;5;241m.\u001b[39mget_path(\u001b[38;5;124m'\u001b[39m\u001b[38;5;124mgeoda.malaria\u001b[39m\u001b[38;5;124m'\u001b[39m))\n",
      "\u001b[0;31mModuleNotFoundError\u001b[0m: No module named 'geopandas'"
     ]
    }
   ],
   "source": [
    "colombia = geopandas.read_file(geodatasets.get_path('geoda.malaria'))\n",
    "colombia.head()"
   ]
  },
  {
   "cell_type": "code",
   "execution_count": null,
   "id": "2e126359",
   "metadata": {},
   "outputs": [],
   "source": []
  }
 ],
 "metadata": {
  "kernelspec": {
   "display_name": "Python 3 (ipykernel)",
   "language": "python",
   "name": "python3"
  },
  "language_info": {
   "codemirror_mode": {
    "name": "ipython",
    "version": 3
   },
   "file_extension": ".py",
   "mimetype": "text/x-python",
   "name": "python",
   "nbconvert_exporter": "python",
   "pygments_lexer": "ipython3",
   "version": "3.9.12"
  }
 },
 "nbformat": 4,
 "nbformat_minor": 5
}
