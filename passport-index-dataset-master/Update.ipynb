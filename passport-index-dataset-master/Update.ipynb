{
 "cells": [
  {
   "cell_type": "markdown",
   "metadata": {},
   "source": [
    "# Generate Passport Index datasets\n",
    "* Data by Passport Index 2023: https://www.passportindex.org/\n",
    "* In both tidy and matrix formats\n",
    "* Using ISO-2, ISO-3, and full country names"
   ]
  },
  {
   "cell_type": "code",
   "execution_count": 1,
   "metadata": {},
   "outputs": [],
   "source": [
    "import requests\n",
    "import pandas as pd\n",
    "import json"
   ]
  },
  {
   "cell_type": "code",
   "execution_count": 2,
   "metadata": {},
   "outputs": [],
   "source": [
    "codes = pd.read_csv(\n",
    "    'https://gist.githubusercontent.com/ilyankou/b2580c632bdea4af2309dcaa69860013/raw/420fb417bcd17d833156efdf64ce8a1c3ceb2691/country-codes',\n",
    "    dtype=str\n",
    ").fillna('NA').set_index('ISO2')\n",
    "\n",
    "def fix_iso2(x):\n",
    "    o = {\n",
    "        'UK': 'GB',\n",
    "        'RK': 'XK'\n",
    "    }\n",
    "    return o[x] if x in o else x"
   ]
  },
  {
   "cell_type": "markdown",
   "metadata": {},
   "source": [
    "## Get data from PassportIndex"
   ]
  },
  {
   "cell_type": "code",
   "execution_count": 3,
   "metadata": {},
   "outputs": [],
   "source": [
    "# URL of the compare passport page\n",
    "url = 'https://www.passportindex.org/comparebyPassport.php?p1=ro&p2=gt&p3=qa'\n",
    "\n",
    "# Make a request to the .php page taht outputs data\n",
    "result_raw = requests.post('https://www.passportindex.org/incl/compare2.php', headers={\n",
    "    'Host': 'www.passportindex.org',\n",
    "    'User-Agent': 'Mozilla/5.0',\n",
    "    'Accept': '*/*',\n",
    "    'Accept-Language': 'en-US,en;q=0.5',\n",
    "    'Accept-Encoding': 'gzip, deflate, br',\n",
    "    'Content-Type': 'application/x-www-form-urlencoded; charset=UTF-8',\n",
    "    'X-Requested-With': 'XMLHttpRequest',\n",
    "    'Content-Length': '9',\n",
    "    'Origin': 'https://www.passportindex.org',\n",
    "    'DNT': '1',\n",
    "    'Connection': 'keep-alive',\n",
    "    'Pragma': 'no-cache',\n",
    "    'Cache-Control': 'no-cache',\n",
    "    'TE': 'Trailers',\n",
    "}, data={\n",
    "    'compare': '1'\n",
    "})"
   ]
  },
  {
   "cell_type": "markdown",
   "metadata": {},
   "source": [
    "## Clean up the data"
   ]
  },
  {
   "cell_type": "code",
   "execution_count": 4,
   "metadata": {},
   "outputs": [],
   "source": [
    "result = json.loads( result_raw.text )\n",
    "obj = {}\n",
    "\n",
    "for passport in result:\n",
    "    \n",
    "    # Fix ISO-2 codes\n",
    "    passport = fix_iso2(passport)\n",
    "    \n",
    "    # Add passport to the object\n",
    "    if passport not in obj:\n",
    "        obj[passport] = {}\n",
    "    \n",
    "    # Add destinations for the given passport\n",
    "    for dest in result[passport]['destination']:\n",
    "        \n",
    "        text = dest['text']\n",
    "        res = ''\n",
    "        \n",
    "        # ** Visa required, incl Cuba's tourist card **\n",
    "        if text == 'visa required' or text == 'tourist card':\n",
    "            res = 'visa required'\n",
    "        \n",
    "        # ** Visa on arrival **\n",
    "        elif 'visa on arrival' in text:\n",
    "            res = 'visa on arrival'\n",
    "            \n",
    "        # ** Covid-19 ban ** \n",
    "        elif text == 'COVID-19 ban':\n",
    "            res = 'covid ban'\n",
    "            \n",
    "        # ** Visa-free, incl. Seychelles' tourist registration **\n",
    "        elif 'visa-free' in text or 'tourist registration' in text:\n",
    "            res = dest['dur'] if dest['dur'] != '' else 'visa free'\n",
    "            \n",
    "        # ** eVisas, incl eVisitors (Australia), eTourist cards (Suriname),\n",
    "        # eTA (US), and pre-enrollment (Ivory Coast), or EVW (UK) **\n",
    "        elif 'eVis' in text or 'eTourist' in text or text == 'eTA' or text == 'pre-enrollment' or text == 'EVW':\n",
    "            res = 'e-visa'\n",
    "            \n",
    "        # ** No admission, including Trump ban **\n",
    "        elif text == 'trump ban' or text == 'not admitted':\n",
    "            res = 'no admission'\n",
    "        \n",
    "        # Update the result!\n",
    "        obj[passport][ fix_iso2(dest['code']) ] = res if res != '' else dest['text']\n",
    "        "
   ]
  },
  {
   "cell_type": "markdown",
   "metadata": {},
   "source": [
    "## Save"
   ]
  },
  {
   "cell_type": "code",
   "execution_count": 5,
   "metadata": {},
   "outputs": [],
   "source": [
    "# ISO-2: Matrix\n",
    "matrix = pd.DataFrame(obj).T.fillna(-1)\n",
    "matrix.to_csv('passport-index-matrix-iso2.csv', index_label='Passport')\n",
    "\n",
    "# ISO-2: Tidy\n",
    "matrix.stack().to_csv(\n",
    "    'passport-index-tidy-iso2.csv',\n",
    "    index_label=['Passport', 'Destination'],\n",
    "    header=['Requirement'])\n",
    "\n",
    "\n",
    "\n",
    "# ISO-3: Matrix\n",
    "iso2to3 =  { x:y['ISO3'] for x,y in codes.iterrows() }\n",
    "matrix.rename(columns=iso2to3, index=iso2to3).to_csv('passport-index-matrix-iso3.csv', index_label='Passport')\n",
    "\n",
    "# ISO-3: Tidy\n",
    "matrix.rename(columns=iso2to3, index=iso2to3).stack().to_csv(\n",
    "    'passport-index-tidy-iso3.csv',\n",
    "    index_label=['Passport', 'Destination'],\n",
    "    header=['Requirement'])\n",
    "\n",
    "\n",
    "# Country names: Matrix\n",
    "iso2name =  { x:y['Country'] for x,y in codes.iterrows() }\n",
    "matrix.rename(columns=iso2name, index=iso2name).to_csv('passport-index-matrix.csv', index_label='Passport')\n",
    "\n",
    "# Country names: Tidy\n",
    "matrix.rename(columns=iso2name, index=iso2name).stack().to_csv(\n",
    "    'passport-index-tidy.csv',\n",
    "    index_label=['Passport', 'Destination'],\n",
    "    header=['Requirement'])"
   ]
  },
  {
   "cell_type": "code",
   "execution_count": 6,
   "metadata": {},
   "outputs": [
    {
     "data": {
      "text/plain": [
       "visa required      14622\n",
       "90                  7817\n",
       "visa on arrival     6249\n",
       "e-visa              5874\n",
       "visa free           1872\n",
       "30                  1434\n",
       "180                  583\n",
       "-1                   199\n",
       "120                  181\n",
       "covid ban            113\n",
       "21                   106\n",
       "14                   105\n",
       "360                   95\n",
       "60                    90\n",
       "15                    69\n",
       "42                    60\n",
       "45                    57\n",
       "no admission          26\n",
       "28                    23\n",
       "240                   15\n",
       "10                     5\n",
       "7                      4\n",
       "31                     2\n",
       "dtype: int64"
      ]
     },
     "execution_count": 6,
     "metadata": {},
     "output_type": "execute_result"
    }
   ],
   "source": [
    "# Print all values\n",
    "tidy = matrix.rename(columns=iso2to3, index=iso2to3).stack()\n",
    "tidy.value_counts()"
   ]
  },
  {
   "cell_type": "code",
   "execution_count": 7,
   "metadata": {},
   "outputs": [
    {
     "data": {
      "text/plain": [
       "AZE  ARM    no admission\n",
       "BGD  IRQ    no admission\n",
       "IRN  LBY    no admission\n",
       "ISR  DZA    no admission\n",
       "     BGD    no admission\n",
       "     BRN    no admission\n",
       "     IRN    no admission\n",
       "     LBN    no admission\n",
       "     LBY    no admission\n",
       "     MYS    no admission\n",
       "     PAK    no admission\n",
       "     SAU    no admission\n",
       "     SYR    no admission\n",
       "     YEM    no admission\n",
       "XKX  ARM    no admission\n",
       "     SYC    no admission\n",
       "PRK  JPN    no admission\n",
       "     LKA    no admission\n",
       "PAK  LBY    no admission\n",
       "SOM  CAN    no admission\n",
       "SDN  LBY    no admission\n",
       "SYR  LBY    no admission\n",
       "TWN  GEO    no admission\n",
       "TJK  KGZ    no admission\n",
       "YEM  IRN    no admission\n",
       "     LBY    no admission\n",
       "dtype: object"
      ]
     },
     "execution_count": 7,
     "metadata": {},
     "output_type": "execute_result"
    }
   ],
   "source": [
    "tidy[ tidy == 'no admission' ]"
   ]
  },
  {
   "cell_type": "code",
   "execution_count": null,
   "metadata": {},
   "outputs": [],
   "source": []
  },
  {
   "cell_type": "code",
   "execution_count": null,
   "metadata": {},
   "outputs": [],
   "source": []
  }
 ],
 "metadata": {
  "kernelspec": {
   "display_name": "Python 3",
   "language": "python",
   "name": "python3"
  },
  "language_info": {
   "codemirror_mode": {
    "name": "ipython",
    "version": 3
   },
   "file_extension": ".py",
   "mimetype": "text/x-python",
   "name": "python",
   "nbconvert_exporter": "python",
   "pygments_lexer": "ipython3",
   "version": "3.7.3"
  }
 },
 "nbformat": 4,
 "nbformat_minor": 4
}
