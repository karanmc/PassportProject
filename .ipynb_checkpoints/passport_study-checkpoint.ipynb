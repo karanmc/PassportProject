{
 "cells": [
  {
   "cell_type": "code",
   "execution_count": 7,
   "id": "5c08ae3c",
   "metadata": {
    "pycharm": {
     "name": "#%%\n"
    }
   },
   "outputs": [
    {
     "name": "stdout",
     "output_type": "stream",
     "text": [
      "\u001b[34mArchive\u001b[m\u001b[m                       passport_study.ipynb\r\n",
      "continent.json                sandbox.ipynb\r\n",
      "\u001b[34mpassport-index-dataset-master\u001b[m\u001b[m\r\n"
     ]
    }
   ],
   "source": [
    "#!ls\n",
    "#cd passport-index-dataset-master/"
   ]
  },
  {
   "cell_type": "code",
   "execution_count": 9,
   "id": "3e8d114f",
   "metadata": {
    "pycharm": {
     "name": "#%%\n"
    }
   },
   "outputs": [
    {
     "name": "stdout",
     "output_type": "stream",
     "text": [
      "250 {'BD': 'AS', 'BE': 'EU', 'BF': 'AF', 'BG': 'EU', 'BA': 'EU', 'BB': 'NA', 'WF': 'OC', 'BL': 'NA', 'BM': 'NA', 'BN': 'AS', 'BO': 'SA', 'BH': 'AS', 'BI': 'AF', 'BJ': 'AF', 'BT': 'AS', 'JM': 'NA', 'BV': 'AN', 'BW': 'AF', 'WS': 'OC', 'BQ': 'NA', 'BR': 'SA', 'BS': 'NA', 'JE': 'EU', 'BY': 'EU', 'BZ': 'NA', 'RU': 'EU', 'RW': 'AF', 'RS': 'EU', 'TL': 'OC', 'RE': 'AF', 'TM': 'AS', 'TJ': 'AS', 'RO': 'EU', 'TK': 'OC', 'GW': 'AF', 'GU': 'OC', 'GT': 'NA', 'GS': 'AN', 'GR': 'EU', 'GQ': 'AF', 'GP': 'NA', 'JP': 'AS', 'GY': 'SA', 'GG': 'EU', 'GF': 'SA', 'GE': 'AS', 'GD': 'NA', 'GB': 'EU', 'GA': 'AF', 'SV': 'NA', 'GN': 'AF', 'GM': 'AF', 'GL': 'NA', 'GI': 'EU', 'GH': 'AF', 'OM': 'AS', 'TN': 'AF', 'JO': 'AS', 'HR': 'EU', 'HT': 'NA', 'HU': 'EU', 'HK': 'AS', 'HN': 'NA', 'HM': 'AN', 'VE': 'SA', 'PR': 'NA', 'PS': 'AS', 'PW': 'OC', 'PT': 'EU', 'SJ': 'EU', 'PY': 'SA', 'IQ': 'AS', 'PA': 'NA', 'PF': 'OC', 'PG': 'OC', 'PE': 'SA', 'PK': 'AS', 'PH': 'AS', 'PN': 'OC', 'PL': 'EU', 'PM': 'NA', 'ZM': 'AF', 'EH': 'AF', 'EE': 'EU', 'EG': 'AF', 'ZA': 'AF', 'EC': 'SA', 'IT': 'EU', 'VN': 'AS', 'SB': 'OC', 'ET': 'AF', 'SO': 'AF', 'ZW': 'AF', 'SA': 'AS', 'ES': 'EU', 'ER': 'AF', 'ME': 'EU', 'MD': 'EU', 'MG': 'AF', 'MF': 'NA', 'MA': 'AF', 'MC': 'EU', 'UZ': 'AS', 'MM': 'AS', 'ML': 'AF', 'MO': 'AS', 'MN': 'AS', 'MH': 'OC', 'MK': 'EU', 'MU': 'AF', 'MT': 'EU', 'MW': 'AF', 'MV': 'AS', 'MQ': 'NA', 'MP': 'OC', 'MS': 'NA', 'MR': 'AF', 'IM': 'EU', 'UG': 'AF', 'TZ': 'AF', 'MY': 'AS', 'MX': 'NA', 'IL': 'AS', 'FR': 'EU', 'IO': 'AS', 'SH': 'AF', 'FI': 'EU', 'FJ': 'OC', 'FK': 'SA', 'FM': 'OC', 'FO': 'EU', 'NI': 'NA', 'NL': 'EU', 'NO': 'EU', 'NA': 'AF', 'VU': 'OC', 'NC': 'OC', 'NE': 'AF', 'NF': 'OC', 'NG': 'AF', 'NZ': 'OC', 'NP': 'AS', 'NR': 'OC', 'NU': 'OC', 'CK': 'OC', 'XK': 'EU', 'CI': 'AF', 'CH': 'EU', 'CO': 'SA', 'CN': 'AS', 'CM': 'AF', 'CL': 'SA', 'CC': 'AS', 'CA': 'NA', 'CG': 'AF', 'CF': 'AF', 'CD': 'AF', 'CZ': 'EU', 'CY': 'EU', 'CX': 'AS', 'CR': 'NA', 'CW': 'NA', 'CV': 'AF', 'CU': 'NA', 'SZ': 'AF', 'SY': 'AS', 'SX': 'NA', 'KG': 'AS', 'KE': 'AF', 'SS': 'AF', 'SR': 'SA', 'KI': 'OC', 'KH': 'AS', 'KN': 'NA', 'KM': 'AF', 'ST': 'AF', 'SK': 'EU', 'KR': 'AS', 'SI': 'EU', 'KP': 'AS', 'KW': 'AS', 'SN': 'AF', 'SM': 'EU', 'SL': 'AF', 'SC': 'AF', 'KZ': 'AS', 'KY': 'NA', 'SG': 'AS', 'SE': 'EU', 'SD': 'AF', 'DO': 'NA', 'DM': 'NA', 'DJ': 'AF', 'DK': 'EU', 'VG': 'NA', 'DE': 'EU', 'YE': 'AS', 'DZ': 'AF', 'US': 'NA', 'UY': 'SA', 'YT': 'AF', 'UM': 'OC', 'LB': 'AS', 'LC': 'NA', 'LA': 'AS', 'TV': 'OC', 'TW': 'AS', 'TT': 'NA', 'TR': 'AS', 'LK': 'AS', 'LI': 'EU', 'LV': 'EU', 'TO': 'OC', 'LT': 'EU', 'LU': 'EU', 'LR': 'AF', 'LS': 'AF', 'TH': 'AS', 'TF': 'AN', 'TG': 'AF', 'TD': 'AF', 'TC': 'NA', 'LY': 'AF', 'VA': 'EU', 'VC': 'NA', 'AE': 'AS', 'AD': 'EU', 'AG': 'NA', 'AF': 'AS', 'AI': 'NA', 'VI': 'NA', 'IS': 'EU', 'IR': 'AS', 'AM': 'AS', 'AL': 'EU', 'AO': 'AF', 'AQ': 'AN', 'AS': 'OC', 'AR': 'SA', 'AU': 'OC', 'AT': 'EU', 'AW': 'NA', 'IN': 'AS', 'AX': 'EU', 'AZ': 'AS', 'IE': 'EU', 'ID': 'AS', 'UA': 'EU', 'QA': 'AS', 'MZ': 'AF'} \n",
      "\n",
      "199 ['AF', 'AL', 'DZ', 'AD', 'AO', 'AG', 'AR', 'AM', 'AU', 'AT', 'AZ', 'BS', 'BH', 'BD', 'BB', 'BY', 'BE', 'BZ', 'BJ', 'BT', 'BO', 'BA', 'BW', 'BR', 'BN', 'BG', 'BF', 'BI', 'KH', 'CM', 'CA', 'CV', 'CF', 'TD', 'CL', 'CN', 'CO', 'KM', 'CG', 'CD', 'CR', 'CI', 'HR', 'CU', 'CY', 'CZ', 'DK', 'DJ', 'DM', 'DO', 'EC', 'EG', 'SV', 'GQ', 'ER', 'EE', 'SZ', 'ET', 'FJ', 'FI', 'FR', 'GA', 'GM', 'GE', 'DE', 'GH', 'GR', 'GD', 'GT', 'GN', 'GW', 'GY', 'HT', 'HN', 'HK', 'HU', 'IS', 'IN', 'ID', 'IR', 'IQ', 'IE', 'IL', 'IT', 'JM', 'JP', 'JO', 'KZ', 'KE', 'KI', 'XK', 'KW', 'KG', 'LA', 'LV', 'LB', 'LS', 'LR', 'LY', 'LI', 'LT', 'LU', 'MO', 'MG', 'MW', 'MY', 'MV', 'ML', 'MT', 'MH', 'MR', 'MU', 'MX', 'FM', 'MD', 'MC', 'MN', 'ME', 'MA', 'MZ', 'MM', 'NA', 'NR', 'NP', 'NL', 'NZ', 'NI', 'NE', 'NG', 'KP', 'MK', 'NO', 'OM', 'PK', 'PW', 'PS', 'PA', 'PG', 'PY', 'PE', 'PH', 'PL', 'PT', 'QA', 'RO', 'RU', 'RW', 'KN', 'LC', 'WS', 'SM', 'ST', 'SA', 'SN', 'RS', 'SC', 'SL', 'SG', 'SK', 'SI', 'SB', 'SO', 'ZA', 'KR', 'SS', 'ES', 'LK', 'VC', 'SD', 'SR', 'SE', 'CH', 'SY', 'TW', 'TJ', 'TZ', 'TH', 'TL', 'TG', 'TO', 'TT', 'TN', 'TR', 'TM', 'TV', 'UG', 'UA', 'AE', 'GB', 'US', 'UY', 'UZ', 'VU', 'VA', 'VE', 'VN', 'YE', 'ZM', 'ZW'] \n",
      "\n",
      "['e-visa', 'visa required', 'visa on arrival', 'covid ban', '21', '90', '30', '-1', '180', '28', 'visa free', '360', '14', '60', '42', '15', '45', '240', '120', 'no admission', '10', '7', '31'] \n",
      "\n",
      "['e-visa', 'visa required', 'visa on arrival', 'covid ban', '-1', 'visa free', 'no admission'] \n",
      "\n",
      "{'AL': 'e-visa', 'DZ': 'visa required', 'AD': 'visa required', 'AO': 'visa on arrival', 'AG': 'e-visa', 'AR': 'visa required', 'AM': 'visa required', 'AU': 'e-visa', 'AT': 'visa required', 'AZ': 'covid ban', 'BS': 'e-visa', 'BH': 'e-visa', 'BD': 'visa on arrival', 'BB': 'visa required', 'BY': 'visa required', 'BE': 'visa required', 'BZ': 'visa required', 'BJ': 'e-visa', 'BT': 'e-visa', 'BO': 'visa on arrival', 'BA': 'visa required', 'BW': 'e-visa', 'BR': 'visa required', 'BN': 'visa required', 'BG': 'visa required', 'BF': 'e-visa', 'BI': 'visa on arrival', 'KH': 'visa on arrival', 'CM': 'visa required', 'CA': 'visa required', 'CV': 'visa on arrival', 'CF': 'visa required', 'TD': 'visa required', 'CL': 'visa required', 'CN': 'visa required', 'CO': 'e-visa', 'KM': 'visa on arrival', 'CG': 'visa required', 'CD': 'e-visa', 'CR': 'visa required', 'CI': 'e-visa', 'HR': 'visa required', 'CU': 'visa required', 'CY': 'visa required', 'CZ': 'visa required', 'DK': 'visa required', 'DJ': 'e-visa', 'DM': '21', 'DO': 'visa required', 'EC': 'e-visa', 'EG': 'visa required', 'SV': 'visa required', 'GQ': 'visa required', 'ER': 'visa required', 'EE': 'visa required', 'SZ': 'visa required', 'ET': 'e-visa', 'FJ': 'visa required', 'FI': 'visa required', 'FR': 'visa required', 'GA': 'e-visa', 'GM': 'visa required', 'GE': 'e-visa', 'DE': 'visa required', 'GH': 'visa required', 'GR': 'visa required', 'GD': 'visa required', 'GT': 'visa required', 'GN': 'e-visa', 'GW': 'visa on arrival', 'GY': 'visa on arrival', 'HT': '90', 'HN': 'visa required', 'HK': 'visa required', 'HU': 'visa required', 'IS': 'visa required', 'IN': 'e-visa', 'ID': 'visa required', 'IR': 'visa required', 'IQ': 'visa required', 'IE': 'visa required', 'IL': 'visa required', 'IT': 'visa required', 'JM': 'visa required', 'JP': 'visa required', 'JO': 'visa required', 'KZ': 'visa required', 'KE': 'e-visa', 'KI': 'visa required', 'XK': 'visa required', 'KW': 'visa required', 'KG': 'e-visa', 'LA': 'visa required', 'LV': 'visa required', 'LB': 'visa required', 'LS': 'e-visa', 'LR': 'visa required', 'LY': 'visa required', 'LI': 'visa required', 'LT': 'visa required', 'LU': 'visa required', 'MO': 'visa on arrival', 'MG': 'visa on arrival', 'MW': 'e-visa', 'MY': 'e-visa', 'MV': 'visa on arrival', 'ML': 'visa required', 'MT': 'visa required', 'MH': 'visa required', 'MR': 'visa on arrival', 'MU': 'visa required', 'MX': 'visa required', 'FM': '30', 'MD': 'e-visa', 'MC': 'visa required', 'MN': 'visa required', 'ME': 'visa required', 'MA': 'visa required', 'MZ': 'visa on arrival', 'MM': 'visa required', 'NA': 'visa required', 'NR': 'visa required', 'NP': 'visa required', 'NL': 'visa required', 'NZ': 'visa required', 'NI': 'visa required', 'NE': 'visa required', 'NG': 'visa on arrival', 'KP': 'visa required', 'MK': 'visa required', 'NO': 'visa required', 'OM': 'e-visa', 'PK': 'e-visa', 'PW': 'visa on arrival', 'PS': 'visa required', 'PA': 'visa required', 'PG': 'visa required', 'PY': 'visa required', 'PE': 'visa required', 'PH': 'visa required', 'PL': 'visa required', 'PT': 'visa required', 'QA': 'visa required', 'RO': 'visa required', 'RU': 'visa required', 'RW': 'visa on arrival', 'KN': 'e-visa', 'LC': 'visa required', 'WS': 'visa on arrival', 'SM': 'visa required', 'ST': 'e-visa', 'SA': 'visa required', 'SN': 'visa required', 'RS': 'visa required', 'SC': '90', 'SL': 'visa on arrival', 'SG': 'e-visa', 'SK': 'visa required', 'SI': 'visa required', 'SB': 'visa required', 'SO': 'visa on arrival', 'ZA': 'visa required', 'KR': 'visa required', 'SS': 'e-visa', 'ES': 'visa required', 'LK': 'visa required', 'VC': 'visa required', 'SD': 'visa required', 'SR': '90', 'SE': 'visa required', 'CH': 'visa required', 'SY': 'visa required', 'TW': 'visa required', 'TJ': 'e-visa', 'TZ': 'e-visa', 'TH': 'visa required', 'TL': 'visa on arrival', 'TG': 'visa on arrival', 'TO': 'visa required', 'TT': 'visa required', 'TN': 'visa required', 'TM': 'visa required', 'TV': 'visa on arrival', 'TR': 'visa required', 'UG': 'e-visa', 'UA': 'visa required', 'AE': 'e-visa', 'GB': 'visa required', 'US': 'visa required', 'UY': 'visa required', 'UZ': 'e-visa', 'VU': 'visa required', 'VA': 'visa required', 'VE': 'visa required', 'VN': 'visa required', 'YE': 'visa required', 'ZM': 'e-visa', 'ZW': 'e-visa', 'AF': '-1'}\n"
     ]
    }
   ],
   "source": [
    "import csv\n",
    "import json\n",
    "import pandas as pd\n",
    "\n",
    "#\n",
    "continents_habitable_list = ['AS', 'AF', 'EU', 'NA', 'SA', 'OC']\n",
    "country_list = []\n",
    "requirement_list = []\n",
    "requirement_list_simple = []\n",
    "number_of_countries = len(country_list)\n",
    "continents_habitable_list_words = ['Asia', 'Africa', 'Europe', 'North America', 'South America', 'Australia-Oceania']\n",
    "AF = {}\n",
    "\n",
    "# continent_dict | format: 'country': 'continent'\n",
    "with open('continent.json') as continent_list:\n",
    "    continent_dict = json.load(continent_list)\n",
    "\n",
    "# passport_index_dict | format: 'country': 'continent'\n",
    "with open('./passport-index-dataset-master/passport-index-tidy-iso2.csv') as passport_index_raw:\n",
    "    passport_index_dict = csv.DictReader(passport_index_raw)\n",
    "    \n",
    "    for row in passport_index_dict: # 'Passport': 'AF', 'Destination': 'AL', 'Requirement': 'e-visa'\n",
    "        # create list of countries based on passports in dataset\n",
    "        if row['Passport'] not in country_list:\n",
    "            country_list.append(row['Passport'])\n",
    "        # create list of requirement types (including # of days)\n",
    "        if row['Requirement'] not in requirement_list:\n",
    "            requirement_list.append(row['Requirement'])\n",
    "        # create simple list of requirement types (NO # of days)\n",
    "        if row['Requirement'] not in requirement_list_simple and row['Requirement'].isnumeric() == False:\n",
    "            requirement_list_simple.append(row['Requirement'])\n",
    "        \n",
    "        if row['Passport'] == 'AF':\n",
    "            AF[row['Destination']] = row['Requirement']\n",
    "    \n",
    "    \n",
    "print(len(continent_dict), continent_dict, '\\n')\n",
    "print(len(country_list), country_list, '\\n')\n",
    "print(requirement_list, '\\n')\n",
    "print(requirement_list_simple, '\\n')\n",
    "print(AF)"
   ]
  },
  {
   "cell_type": "code",
   "execution_count": 10,
   "id": "fcc11b15",
   "metadata": {
    "pycharm": {
     "name": "#%%\n"
    },
    "scrolled": true
   },
   "outputs": [
    {
     "name": "stdout",
     "output_type": "stream",
     "text": [
      "199 {'AF': 'AS', 'AL': 'EU', 'DZ': 'AF', 'AD': 'EU', 'AO': 'AF', 'AG': 'NA', 'AR': 'SA', 'AM': 'AS', 'AU': 'OC', 'AT': 'EU', 'AZ': 'AS', 'BS': 'NA', 'BH': 'AS', 'BD': 'AS', 'BB': 'NA', 'BY': 'EU', 'BE': 'EU', 'BZ': 'NA', 'BJ': 'AF', 'BT': 'AS', 'BO': 'SA', 'BA': 'EU', 'BW': 'AF', 'BR': 'SA', 'BN': 'AS', 'BG': 'EU', 'BF': 'AF', 'BI': 'AF', 'KH': 'AS', 'CM': 'AF', 'CA': 'NA', 'CV': 'AF', 'CF': 'AF', 'TD': 'AF', 'CL': 'SA', 'CN': 'AS', 'CO': 'SA', 'KM': 'AF', 'CG': 'AF', 'CD': 'AF', 'CR': 'NA', 'CI': 'AF', 'HR': 'EU', 'CU': 'NA', 'CY': 'EU', 'CZ': 'EU', 'DK': 'EU', 'DJ': 'AF', 'DM': 'NA', 'DO': 'NA', 'EC': 'SA', 'EG': 'AF', 'SV': 'NA', 'GQ': 'AF', 'ER': 'AF', 'EE': 'EU', 'SZ': 'AF', 'ET': 'AF', 'FJ': 'OC', 'FI': 'EU', 'FR': 'EU', 'GA': 'AF', 'GM': 'AF', 'GE': 'AS', 'DE': 'EU', 'GH': 'AF', 'GR': 'EU', 'GD': 'NA', 'GT': 'NA', 'GN': 'AF', 'GW': 'AF', 'GY': 'SA', 'HT': 'NA', 'HN': 'NA', 'HK': 'AS', 'HU': 'EU', 'IS': 'EU', 'IN': 'AS', 'ID': 'AS', 'IR': 'AS', 'IQ': 'AS', 'IE': 'EU', 'IL': 'AS', 'IT': 'EU', 'JM': 'NA', 'JP': 'AS', 'JO': 'AS', 'KZ': 'AS', 'KE': 'AF', 'KI': 'OC', 'XK': 'EU', 'KW': 'AS', 'KG': 'AS', 'LA': 'AS', 'LV': 'EU', 'LB': 'AS', 'LS': 'AF', 'LR': 'AF', 'LY': 'AF', 'LI': 'EU', 'LT': 'EU', 'LU': 'EU', 'MO': 'AS', 'MG': 'AF', 'MW': 'AF', 'MY': 'AS', 'MV': 'AS', 'ML': 'AF', 'MT': 'EU', 'MH': 'OC', 'MR': 'AF', 'MU': 'AF', 'MX': 'NA', 'FM': 'OC', 'MD': 'EU', 'MC': 'EU', 'MN': 'AS', 'ME': 'EU', 'MA': 'AF', 'MZ': 'AF', 'MM': 'AS', 'NA': 'AF', 'NR': 'OC', 'NP': 'AS', 'NL': 'EU', 'NZ': 'OC', 'NI': 'NA', 'NE': 'AF', 'NG': 'AF', 'KP': 'AS', 'MK': 'EU', 'NO': 'EU', 'OM': 'AS', 'PK': 'AS', 'PW': 'OC', 'PS': 'AS', 'PA': 'NA', 'PG': 'OC', 'PY': 'SA', 'PE': 'SA', 'PH': 'AS', 'PL': 'EU', 'PT': 'EU', 'QA': 'AS', 'RO': 'EU', 'RU': 'EU', 'RW': 'AF', 'KN': 'NA', 'LC': 'NA', 'WS': 'OC', 'SM': 'EU', 'ST': 'AF', 'SA': 'AS', 'SN': 'AF', 'RS': 'EU', 'SC': 'AF', 'SL': 'AF', 'SG': 'AS', 'SK': 'EU', 'SI': 'EU', 'SB': 'OC', 'SO': 'AF', 'ZA': 'AF', 'KR': 'AS', 'SS': 'AF', 'ES': 'EU', 'LK': 'AS', 'VC': 'NA', 'SD': 'AF', 'SR': 'SA', 'SE': 'EU', 'CH': 'EU', 'SY': 'AS', 'TW': 'AS', 'TJ': 'AS', 'TZ': 'AF', 'TH': 'AS', 'TL': 'OC', 'TG': 'AF', 'TO': 'OC', 'TT': 'NA', 'TN': 'AF', 'TR': 'AS', 'TM': 'AS', 'TV': 'OC', 'UG': 'AF', 'UA': 'EU', 'AE': 'AS', 'GB': 'EU', 'US': 'NA', 'UY': 'SA', 'UZ': 'AS', 'VU': 'OC', 'VA': 'EU', 'VE': 'SA', 'VN': 'AS', 'YE': 'AS', 'ZM': 'AF', 'ZW': 'AF'}\n",
      "asia: ['AF', 'AM', 'AZ', 'BH', 'BD', 'BT', 'BN', 'KH', 'CN', 'GE', 'HK', 'IN', 'ID', 'IR', 'IQ', 'IL', 'JP', 'JO', 'KZ', 'KW', 'KG', 'LA', 'LB', 'MO', 'MY', 'MV', 'MN', 'MM', 'NP', 'KP', 'OM', 'PK', 'PS', 'PH', 'QA', 'SA', 'SG', 'KR', 'LK', 'SY', 'TW', 'TJ', 'TH', 'TR', 'TM', 'AE', 'UZ', 'VN', 'YE']\n",
      "africa: ['DZ', 'AO', 'BJ', 'BW', 'BF', 'BI', 'CM', 'CV', 'CF', 'TD', 'KM', 'CG', 'CD', 'CI', 'DJ', 'EG', 'GQ', 'ER', 'SZ', 'ET', 'GA', 'GM', 'GH', 'GN', 'GW', 'KE', 'LS', 'LR', 'LY', 'MG', 'MW', 'ML', 'MR', 'MU', 'MA', 'MZ', 'NA', 'NE', 'NG', 'RW', 'ST', 'SN', 'SC', 'SL', 'SO', 'ZA', 'SS', 'SD', 'TZ', 'TG', 'TN', 'UG', 'ZM', 'ZW']\n",
      "europe: ['AL', 'AD', 'AT', 'BY', 'BE', 'BA', 'BG', 'HR', 'CY', 'CZ', 'DK', 'EE', 'FI', 'FR', 'DE', 'GR', 'HU', 'IS', 'IE', 'IT', 'XK', 'LV', 'LI', 'LT', 'LU', 'MT', 'MD', 'MC', 'ME', 'NL', 'MK', 'NO', 'PL', 'PT', 'RO', 'RU', 'SM', 'RS', 'SK', 'SI', 'ES', 'SE', 'CH', 'UA', 'GB', 'VA']\n",
      "north_america: ['AG', 'BS', 'BB', 'BZ', 'CA', 'CR', 'CU', 'DM', 'DO', 'SV', 'GD', 'GT', 'HT', 'HN', 'JM', 'MX', 'NI', 'PA', 'KN', 'LC', 'VC', 'TT', 'US']\n",
      "south_america: ['AR', 'BO', 'BR', 'CL', 'CO', 'EC', 'GY', 'PY', 'PE', 'SR', 'UY', 'VE']\n",
      "oceania: ['AU', 'FJ', 'KI', 'MH', 'FM', 'NR', 'NZ', 'PW', 'PG', 'WS', 'SB', 'TL', 'TO', 'TV', 'VU']\n"
     ]
    }
   ],
   "source": [
    "asia = []\n",
    "africa = []\n",
    "europe = []\n",
    "north_america = []\n",
    "south_america = []\n",
    "oceania = []\n",
    "\n",
    "country_continent = {}\n",
    "\n",
    "#print(len(country_list))\n",
    "#print(continent_dict)\n",
    "\n",
    "\n",
    "#for country, continent in continent_dict.items():\n",
    "    #print(country, continent)\n",
    "    \n",
    "for country in country_list:\n",
    "    if country in continent_dict:\n",
    "        country_continent[country] = continent_dict[country]\n",
    "        #print(continent_dict[country])\n",
    "        \n",
    "print(len(country_continent), country_continent)\n",
    "\n",
    "#print(continents_habitable_list)\n",
    "\n",
    "for country, continent in country_continent.items():\n",
    "    #print(country)\n",
    "    #print(continent)\n",
    "    if continent == 'AS':\n",
    "        asia.append(country)\n",
    "    elif continent == 'AF':\n",
    "        africa.append(country)\n",
    "    elif continent == 'EU':\n",
    "        europe.append(country)\n",
    "    elif continent == 'NA':\n",
    "        north_america.append(country)\n",
    "    elif continent == 'SA':\n",
    "        south_america.append(country)\n",
    "    elif continent == 'OC':\n",
    "        oceania.append(country)\n",
    "        \n",
    "print('asia:', asia)\n",
    "print('africa:', africa)\n",
    "print('europe:', europe)\n",
    "print('north_america:', north_america)\n",
    "print('south_america:', south_america)\n",
    "print('oceania:', oceania)\n",
    "\n",
    "#print(len(asia)+len(africa)+len(europe)+len(north_america)+len(south_america)+len(oceania))"
   ]
  },
  {
   "cell_type": "code",
   "execution_count": 12,
   "id": "28a84f96",
   "metadata": {
    "pycharm": {
     "name": "#%%\n"
    }
   },
   "outputs": [
    {
     "name": "stdout",
     "output_type": "stream",
     "text": [
      "90\n",
      "NA\n",
      "['e-visa', 'visa required', 'visa on arrival', 'covid ban', '21', '90', '30', '-1', '180', '28', 'visa free', '360', '14', '60', '42', '15', '45', '240', '120', 'no admission', '10', '7', '31']\n",
      "['e-visa', 'visa required', 'visa on arrival', 'covid ban', '-1', 'visa free', 'no admission']\n"
     ]
    }
   ],
   "source": [
    "# function\n",
    "# input: passport, destination\n",
    "# output: visa requirements\n",
    "def get_requirements(passport, destination):\n",
    "    requirement = ''\n",
    "    \n",
    "    with open('./passport-index-dataset-master/passport-index-tidy-iso2.csv') as passport_index_raw:\n",
    "        passport_index_dict = csv.DictReader(passport_index_raw)\n",
    "        for row in passport_index_dict: # 'Passport': 'AF', 'Destination': 'AL', 'Requirement': 'e-visa'\n",
    "            if row['Passport'] == passport and row['Destination'] == destination:\n",
    "                requirement = row['Requirement']\n",
    "\n",
    "    return requirement\n",
    "\n",
    "def get_continent(passport):\n",
    "    return country_continent[passport]\n",
    "        \n",
    "print(get_requirements('TT', 'GM'))\n",
    "print(get_continent('TT'))\n",
    "\n",
    "print(requirement_list)\n",
    "print(requirement_list_simple)"
   ]
  },
  {
   "cell_type": "code",
   "execution_count": 15,
   "id": "45a6ee40",
   "metadata": {
    "pycharm": {
     "name": "#%%\n"
    }
   },
   "outputs": [
    {
     "data": {
      "text/html": [
       "<div>\n",
       "<style scoped>\n",
       "    .dataframe tbody tr th:only-of-type {\n",
       "        vertical-align: middle;\n",
       "    }\n",
       "\n",
       "    .dataframe tbody tr th {\n",
       "        vertical-align: top;\n",
       "    }\n",
       "\n",
       "    .dataframe thead th {\n",
       "        text-align: right;\n",
       "    }\n",
       "</style>\n",
       "<table border=\"1\" class=\"dataframe\">\n",
       "  <thead>\n",
       "    <tr style=\"text-align: right;\">\n",
       "      <th></th>\n",
       "      <th>Passport</th>\n",
       "      <th>Destination</th>\n",
       "      <th>Requirement</th>\n",
       "    </tr>\n",
       "  </thead>\n",
       "  <tbody>\n",
       "    <tr>\n",
       "      <th>0</th>\n",
       "      <td>AF</td>\n",
       "      <td>AL</td>\n",
       "      <td>e-visa</td>\n",
       "    </tr>\n",
       "    <tr>\n",
       "      <th>1</th>\n",
       "      <td>AF</td>\n",
       "      <td>DZ</td>\n",
       "      <td>visa required</td>\n",
       "    </tr>\n",
       "    <tr>\n",
       "      <th>2</th>\n",
       "      <td>AF</td>\n",
       "      <td>AD</td>\n",
       "      <td>visa required</td>\n",
       "    </tr>\n",
       "    <tr>\n",
       "      <th>3</th>\n",
       "      <td>AF</td>\n",
       "      <td>AO</td>\n",
       "      <td>visa on arrival</td>\n",
       "    </tr>\n",
       "    <tr>\n",
       "      <th>4</th>\n",
       "      <td>AF</td>\n",
       "      <td>AG</td>\n",
       "      <td>e-visa</td>\n",
       "    </tr>\n",
       "    <tr>\n",
       "      <th>...</th>\n",
       "      <td>...</td>\n",
       "      <td>...</td>\n",
       "      <td>...</td>\n",
       "    </tr>\n",
       "    <tr>\n",
       "      <th>39596</th>\n",
       "      <td>ZW</td>\n",
       "      <td>VN</td>\n",
       "      <td>visa required</td>\n",
       "    </tr>\n",
       "    <tr>\n",
       "      <th>39597</th>\n",
       "      <td>ZW</td>\n",
       "      <td>YE</td>\n",
       "      <td>visa required</td>\n",
       "    </tr>\n",
       "    <tr>\n",
       "      <th>39598</th>\n",
       "      <td>ZW</td>\n",
       "      <td>ZM</td>\n",
       "      <td>90</td>\n",
       "    </tr>\n",
       "    <tr>\n",
       "      <th>39599</th>\n",
       "      <td>ZW</td>\n",
       "      <td>ZW</td>\n",
       "      <td>-1</td>\n",
       "    </tr>\n",
       "    <tr>\n",
       "      <th>39600</th>\n",
       "      <td>ZW</td>\n",
       "      <td>AF</td>\n",
       "      <td>visa required</td>\n",
       "    </tr>\n",
       "  </tbody>\n",
       "</table>\n",
       "<p>39601 rows × 3 columns</p>\n",
       "</div>"
      ],
      "text/plain": [
       "      Passport Destination      Requirement\n",
       "0           AF          AL           e-visa\n",
       "1           AF          DZ    visa required\n",
       "2           AF          AD    visa required\n",
       "3           AF          AO  visa on arrival\n",
       "4           AF          AG           e-visa\n",
       "...        ...         ...              ...\n",
       "39596       ZW          VN    visa required\n",
       "39597       ZW          YE    visa required\n",
       "39598       ZW          ZM               90\n",
       "39599       ZW          ZW               -1\n",
       "39600       ZW          AF    visa required\n",
       "\n",
       "[39601 rows x 3 columns]"
      ]
     },
     "execution_count": 15,
     "metadata": {},
     "output_type": "execute_result"
    }
   ],
   "source": [
    "test = pd.read_csv('./passport-index-dataset-master/passport-index-tidy-iso2.csv')\n",
    "test"
   ]
  },
  {
   "cell_type": "code",
   "execution_count": 16,
   "id": "5f88403b",
   "metadata": {
    "pycharm": {
     "name": "#%%\n"
    }
   },
   "outputs": [],
   "source": [
    "# avg for each cat of entry type\n",
    "\n",
    "average_asia = []\n",
    "\n",
    "def requirements_avg(country):\n",
    "    #do something with country\n",
    "    requirements_types = requirement_list\n",
    "    \n",
    "    pass\n",
    "\n",
    "# for each country in [continent]\n",
    "#   check requirements for all other countries\n",
    "#   add counter for each visa restriction\n",
    "#"
   ]
  },
  {
   "cell_type": "code",
   "execution_count": null,
   "id": "60b278fc",
   "metadata": {},
   "outputs": [],
   "source": []
  }
 ],
 "metadata": {
  "kernelspec": {
   "display_name": "Python 3 (ipykernel)",
   "language": "python",
   "name": "python3"
  },
  "language_info": {
   "codemirror_mode": {
    "name": "ipython",
    "version": 3
   },
   "file_extension": ".py",
   "mimetype": "text/x-python",
   "name": "python",
   "nbconvert_exporter": "python",
   "pygments_lexer": "ipython3",
   "version": "3.9.12"
  }
 },
 "nbformat": 4,
 "nbformat_minor": 5
}
